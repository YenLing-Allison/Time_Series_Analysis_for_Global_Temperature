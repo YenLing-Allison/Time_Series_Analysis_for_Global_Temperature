{
 "cells": [
  {
   "cell_type": "markdown",
   "id": "a9225329",
   "metadata": {},
   "source": [
    "## Forecast 10 months global temperature for 2016\n",
    "Allison Liu\n",  
    "February 19, 2024\n"
   ]
  },
  {
   "cell_type": "code",
   "execution_count": 1,
   "id": "0a483797",
   "metadata": {},
   "outputs": [],
   "source": [
    "import numpy as np\n",
    "import pandas as pd\n",
    "import tensorflow as tf\n",
    "from tensorflow.keras.models import Sequential\n",
    "from tensorflow.keras.layers import LSTM, Dense"
   ]
  },
  {
   "cell_type": "code",
   "execution_count": 3,
   "id": "be4f52a8",
   "metadata": {},
   "outputs": [],
   "source": [
    "# Use the monthly global temperature time series data\n",
    "file_path = '/Users/user/Downloads/monthly_csv.csv'\n",
    "# Load the CSV file into a DataFrame\n",
    "df = pd.read_csv(file_path)"
   ]
  },
  {
   "cell_type": "code",
   "execution_count": 5,
   "id": "1af5be7f",
   "metadata": {},
   "outputs": [],
   "source": [
    "# filter the Source = 'GCAG'\n",
    "df = df[df['Source'] == 'GCAG']"
   ]
  },
  {
   "cell_type": "code",
   "execution_count": 7,
   "id": "30131118",
   "metadata": {},
   "outputs": [
    {
     "data": {
      "text/plain": [
       "(1644, 3)"
      ]
     },
     "execution_count": 7,
     "metadata": {},
     "output_type": "execute_result"
    }
   ],
   "source": [
    "df.shape"
   ]
  },
  {
   "cell_type": "code",
   "execution_count": 8,
   "id": "73965ada",
   "metadata": {},
   "outputs": [
    {
     "data": {
      "text/html": [
       "<div>\n",
       "<style scoped>\n",
       "    .dataframe tbody tr th:only-of-type {\n",
       "        vertical-align: middle;\n",
       "    }\n",
       "\n",
       "    .dataframe tbody tr th {\n",
       "        vertical-align: top;\n",
       "    }\n",
       "\n",
       "    .dataframe thead th {\n",
       "        text-align: right;\n",
       "    }\n",
       "</style>\n",
       "<table border=\"1\" class=\"dataframe\">\n",
       "  <thead>\n",
       "    <tr style=\"text-align: right;\">\n",
       "      <th></th>\n",
       "      <th>Source</th>\n",
       "      <th>Date</th>\n",
       "      <th>Mean</th>\n",
       "    </tr>\n",
       "  </thead>\n",
       "  <tbody>\n",
       "    <tr>\n",
       "      <th>0</th>\n",
       "      <td>GCAG</td>\n",
       "      <td>2016-12-06</td>\n",
       "      <td>0.7895</td>\n",
       "    </tr>\n",
       "    <tr>\n",
       "      <th>2</th>\n",
       "      <td>GCAG</td>\n",
       "      <td>2016-11-06</td>\n",
       "      <td>0.7504</td>\n",
       "    </tr>\n",
       "    <tr>\n",
       "      <th>4</th>\n",
       "      <td>GCAG</td>\n",
       "      <td>2016-10-06</td>\n",
       "      <td>0.7292</td>\n",
       "    </tr>\n",
       "    <tr>\n",
       "      <th>6</th>\n",
       "      <td>GCAG</td>\n",
       "      <td>2016-09-06</td>\n",
       "      <td>0.8767</td>\n",
       "    </tr>\n",
       "    <tr>\n",
       "      <th>8</th>\n",
       "      <td>GCAG</td>\n",
       "      <td>2016-08-06</td>\n",
       "      <td>0.8998</td>\n",
       "    </tr>\n",
       "    <tr>\n",
       "      <th>...</th>\n",
       "      <td>...</td>\n",
       "      <td>...</td>\n",
       "      <td>...</td>\n",
       "    </tr>\n",
       "    <tr>\n",
       "      <th>3278</th>\n",
       "      <td>GCAG</td>\n",
       "      <td>1880-05-06</td>\n",
       "      <td>-0.0738</td>\n",
       "    </tr>\n",
       "    <tr>\n",
       "      <th>3280</th>\n",
       "      <td>GCAG</td>\n",
       "      <td>1880-04-06</td>\n",
       "      <td>-0.0499</td>\n",
       "    </tr>\n",
       "    <tr>\n",
       "      <th>3282</th>\n",
       "      <td>GCAG</td>\n",
       "      <td>1880-03-06</td>\n",
       "      <td>-0.1357</td>\n",
       "    </tr>\n",
       "    <tr>\n",
       "      <th>3284</th>\n",
       "      <td>GCAG</td>\n",
       "      <td>1880-02-06</td>\n",
       "      <td>-0.1229</td>\n",
       "    </tr>\n",
       "    <tr>\n",
       "      <th>3286</th>\n",
       "      <td>GCAG</td>\n",
       "      <td>1880-01-06</td>\n",
       "      <td>0.0009</td>\n",
       "    </tr>\n",
       "  </tbody>\n",
       "</table>\n",
       "<p>1644 rows × 3 columns</p>\n",
       "</div>"
      ],
      "text/plain": [
       "     Source        Date    Mean\n",
       "0      GCAG  2016-12-06  0.7895\n",
       "2      GCAG  2016-11-06  0.7504\n",
       "4      GCAG  2016-10-06  0.7292\n",
       "6      GCAG  2016-09-06  0.8767\n",
       "8      GCAG  2016-08-06  0.8998\n",
       "...     ...         ...     ...\n",
       "3278   GCAG  1880-05-06 -0.0738\n",
       "3280   GCAG  1880-04-06 -0.0499\n",
       "3282   GCAG  1880-03-06 -0.1357\n",
       "3284   GCAG  1880-02-06 -0.1229\n",
       "3286   GCAG  1880-01-06  0.0009\n",
       "\n",
       "[1644 rows x 3 columns]"
      ]
     },
     "execution_count": 8,
     "metadata": {},
     "output_type": "execute_result"
    }
   ],
   "source": [
    "df"
   ]
  },
  {
   "cell_type": "code",
   "execution_count": 11,
   "id": "f1b19236",
   "metadata": {},
   "outputs": [],
   "source": [
    "# Reverse data into chronological order\n",
    "df = df.sort_values(by='Date', ascending=True)"
   ]
  },
  {
   "cell_type": "code",
   "execution_count": 12,
   "id": "5b899d04",
   "metadata": {
    "scrolled": false
   },
   "outputs": [
    {
     "data": {
      "text/html": [
       "<div>\n",
       "<style scoped>\n",
       "    .dataframe tbody tr th:only-of-type {\n",
       "        vertical-align: middle;\n",
       "    }\n",
       "\n",
       "    .dataframe tbody tr th {\n",
       "        vertical-align: top;\n",
       "    }\n",
       "\n",
       "    .dataframe thead th {\n",
       "        text-align: right;\n",
       "    }\n",
       "</style>\n",
       "<table border=\"1\" class=\"dataframe\">\n",
       "  <thead>\n",
       "    <tr style=\"text-align: right;\">\n",
       "      <th></th>\n",
       "      <th>Source</th>\n",
       "      <th>Date</th>\n",
       "      <th>Mean</th>\n",
       "    </tr>\n",
       "  </thead>\n",
       "  <tbody>\n",
       "    <tr>\n",
       "      <th>3286</th>\n",
       "      <td>GCAG</td>\n",
       "      <td>1880-01-06</td>\n",
       "      <td>0.0009</td>\n",
       "    </tr>\n",
       "    <tr>\n",
       "      <th>3284</th>\n",
       "      <td>GCAG</td>\n",
       "      <td>1880-02-06</td>\n",
       "      <td>-0.1229</td>\n",
       "    </tr>\n",
       "    <tr>\n",
       "      <th>3282</th>\n",
       "      <td>GCAG</td>\n",
       "      <td>1880-03-06</td>\n",
       "      <td>-0.1357</td>\n",
       "    </tr>\n",
       "    <tr>\n",
       "      <th>3280</th>\n",
       "      <td>GCAG</td>\n",
       "      <td>1880-04-06</td>\n",
       "      <td>-0.0499</td>\n",
       "    </tr>\n",
       "    <tr>\n",
       "      <th>3278</th>\n",
       "      <td>GCAG</td>\n",
       "      <td>1880-05-06</td>\n",
       "      <td>-0.0738</td>\n",
       "    </tr>\n",
       "    <tr>\n",
       "      <th>...</th>\n",
       "      <td>...</td>\n",
       "      <td>...</td>\n",
       "      <td>...</td>\n",
       "    </tr>\n",
       "    <tr>\n",
       "      <th>8</th>\n",
       "      <td>GCAG</td>\n",
       "      <td>2016-08-06</td>\n",
       "      <td>0.8998</td>\n",
       "    </tr>\n",
       "    <tr>\n",
       "      <th>6</th>\n",
       "      <td>GCAG</td>\n",
       "      <td>2016-09-06</td>\n",
       "      <td>0.8767</td>\n",
       "    </tr>\n",
       "    <tr>\n",
       "      <th>4</th>\n",
       "      <td>GCAG</td>\n",
       "      <td>2016-10-06</td>\n",
       "      <td>0.7292</td>\n",
       "    </tr>\n",
       "    <tr>\n",
       "      <th>2</th>\n",
       "      <td>GCAG</td>\n",
       "      <td>2016-11-06</td>\n",
       "      <td>0.7504</td>\n",
       "    </tr>\n",
       "    <tr>\n",
       "      <th>0</th>\n",
       "      <td>GCAG</td>\n",
       "      <td>2016-12-06</td>\n",
       "      <td>0.7895</td>\n",
       "    </tr>\n",
       "  </tbody>\n",
       "</table>\n",
       "<p>1644 rows × 3 columns</p>\n",
       "</div>"
      ],
      "text/plain": [
       "     Source        Date    Mean\n",
       "3286   GCAG  1880-01-06  0.0009\n",
       "3284   GCAG  1880-02-06 -0.1229\n",
       "3282   GCAG  1880-03-06 -0.1357\n",
       "3280   GCAG  1880-04-06 -0.0499\n",
       "3278   GCAG  1880-05-06 -0.0738\n",
       "...     ...         ...     ...\n",
       "8      GCAG  2016-08-06  0.8998\n",
       "6      GCAG  2016-09-06  0.8767\n",
       "4      GCAG  2016-10-06  0.7292\n",
       "2      GCAG  2016-11-06  0.7504\n",
       "0      GCAG  2016-12-06  0.7895\n",
       "\n",
       "[1644 rows x 3 columns]"
      ]
     },
     "execution_count": 12,
     "metadata": {},
     "output_type": "execute_result"
    }
   ],
   "source": [
    "df"
   ]
  },
  {
   "cell_type": "code",
   "execution_count": 15,
   "id": "4f384d06",
   "metadata": {},
   "outputs": [],
   "source": [
    "data = df['Mean'].values"
   ]
  },
  {
   "cell_type": "code",
   "execution_count": 17,
   "id": "e20fc1aa",
   "metadata": {},
   "outputs": [],
   "source": [
    "def create_time_series_dataset(data, look_back):\n",
    "    X, y = [], []\n",
    "    for i in range(len(data) - look_back):\n",
    "        X.append(data[i:i+look_back])\n",
    "        y.append(data[i+look_back])\n",
    "    return np.array(X), np.array(y)"
   ]
  },
  {
   "cell_type": "code",
   "execution_count": 19,
   "id": "d8068732",
   "metadata": {},
   "outputs": [],
   "source": [
    "look_back = 4  # Number of past time steps to consider\n",
    "\n",
    "X, y = create_time_series_dataset(data, look_back)"
   ]
  },
  {
   "cell_type": "code",
   "execution_count": 20,
   "id": "2607ca71",
   "metadata": {},
   "outputs": [],
   "source": [
    "look_forward = 10  # Number of future time steps to predict (i.e., the horizon)\n",
    "split_index = int(len(X) - look_forward) #The rest of the dataset is considered the training data\n",
    "X_train, X_test = X[:split_index], X[split_index:]\n",
    "y_train, y_test = y[:split_index], y[split_index:]"
   ]
  },
  {
   "cell_type": "code",
   "execution_count": 21,
   "id": "a42ce5dd",
   "metadata": {},
   "outputs": [],
   "source": [
    "X_train = X_train.reshape(-1, look_back, 1) #(batch_size, time_steps, input_features)\n",
    "X_test = X_test.reshape(-1, look_back, 1)"
   ]
  },
  {
   "cell_type": "code",
   "execution_count": 36,
   "id": "2c00fc3f",
   "metadata": {},
   "outputs": [],
   "source": [
    "if 'model' in locals():\n",
    "    del model\n",
    "\n",
    "# We then set a random seed for reproducibility.\n",
    "tf.random.set_seed(66)\n",
    "\n",
    "# The LSTM layer provides memory to the network and allows it to learn long-term dependencies.\n",
    "# Replacing the LSTM layer by the (commented) Dense layer will result in a Deep AR.\n",
    "model = Sequential([\n",
    "    LSTM(64, activation='relu', input_shape=(look_back, 1)),\n",
    "    Dense(64, activation='relu', input_shape=(look_back, 1)),\n",
    "    Dense(64, activation='relu', input_shape=(look_back, 1)),\n",
    "    Dense(64, activation='relu', input_shape=(look_back, 1)),\n",
    "    Dense(64, activation='relu', input_shape=(look_back, 1)),\n",
    "    Dense(64, activation='relu', input_shape=(look_back, 1)),\n",
    "    Dense(64, activation='relu', input_shape=(look_back, 1)),\n",
    "    Dense(64, activation='relu', input_shape=(look_back, 1)),\n",
    "    Dense(1)\n",
    "])\n",
    "\n",
    "model.compile(optimizer='adam', loss='mse') # Adam optimizer and MSE loss function for regression"
   ]
  },
  {
   "cell_type": "code",
   "execution_count": 37,
   "id": "c83c93cf",
   "metadata": {},
   "outputs": [
    {
     "name": "stdout",
     "output_type": "stream",
     "text": [
      "Epoch 1/32\n",
      "26/26 [==============================] - 1s 3ms/step - loss: 0.0556\n",
      "Epoch 2/32\n",
      "26/26 [==============================] - 0s 2ms/step - loss: 0.0134\n",
      "Epoch 3/32\n",
      "26/26 [==============================] - 0s 2ms/step - loss: 0.0110\n",
      "Epoch 4/32\n",
      "26/26 [==============================] - 0s 2ms/step - loss: 0.0095\n",
      "Epoch 5/32\n",
      "26/26 [==============================] - 0s 2ms/step - loss: 0.0096\n",
      "Epoch 6/32\n",
      "26/26 [==============================] - 0s 2ms/step - loss: 0.0095\n",
      "Epoch 7/32\n",
      "26/26 [==============================] - 0s 2ms/step - loss: 0.0097\n",
      "Epoch 8/32\n",
      "26/26 [==============================] - 0s 2ms/step - loss: 0.0095\n",
      "Epoch 9/32\n",
      "26/26 [==============================] - 0s 2ms/step - loss: 0.0096\n",
      "Epoch 10/32\n",
      "26/26 [==============================] - 0s 2ms/step - loss: 0.0097\n",
      "Epoch 11/32\n",
      "26/26 [==============================] - 0s 2ms/step - loss: 0.0097\n",
      "Epoch 12/32\n",
      "26/26 [==============================] - 0s 2ms/step - loss: 0.0094\n",
      "Epoch 13/32\n",
      "26/26 [==============================] - 0s 3ms/step - loss: 0.0093\n",
      "Epoch 14/32\n",
      "26/26 [==============================] - 0s 2ms/step - loss: 0.0097\n",
      "Epoch 15/32\n",
      "26/26 [==============================] - 0s 3ms/step - loss: 0.0101\n",
      "Epoch 16/32\n",
      "26/26 [==============================] - 0s 3ms/step - loss: 0.0096\n",
      "Epoch 17/32\n",
      "26/26 [==============================] - 0s 3ms/step - loss: 0.0095\n",
      "Epoch 18/32\n",
      "26/26 [==============================] - 0s 3ms/step - loss: 0.0096\n",
      "Epoch 19/32\n",
      "26/26 [==============================] - 0s 3ms/step - loss: 0.0094\n",
      "Epoch 20/32\n",
      "26/26 [==============================] - 0s 3ms/step - loss: 0.0096\n",
      "Epoch 21/32\n",
      "26/26 [==============================] - 0s 3ms/step - loss: 0.0092\n",
      "Epoch 22/32\n",
      "26/26 [==============================] - 0s 4ms/step - loss: 0.0093\n",
      "Epoch 23/32\n",
      "26/26 [==============================] - 0s 4ms/step - loss: 0.0094\n",
      "Epoch 24/32\n",
      "26/26 [==============================] - 0s 3ms/step - loss: 0.0094\n",
      "Epoch 25/32\n",
      "26/26 [==============================] - 0s 3ms/step - loss: 0.0092\n",
      "Epoch 26/32\n",
      "26/26 [==============================] - 0s 3ms/step - loss: 0.0093\n",
      "Epoch 27/32\n",
      "26/26 [==============================] - 0s 3ms/step - loss: 0.0096\n",
      "Epoch 28/32\n",
      "26/26 [==============================] - 0s 3ms/step - loss: 0.0101\n",
      "Epoch 29/32\n",
      "26/26 [==============================] - 0s 4ms/step - loss: 0.0093\n",
      "Epoch 30/32\n",
      "26/26 [==============================] - 0s 3ms/step - loss: 0.0094\n",
      "Epoch 31/32\n",
      "26/26 [==============================] - 0s 3ms/step - loss: 0.0100\n",
      "Epoch 32/32\n",
      "26/26 [==============================] - 0s 3ms/step - loss: 0.0097\n"
     ]
    },
    {
     "data": {
      "text/plain": [
       "<keras.src.callbacks.History at 0x1f210a9ad60>"
      ]
     },
     "execution_count": 37,
     "metadata": {},
     "output_type": "execute_result"
    }
   ],
   "source": [
    "model.fit(X_train, y_train, epochs=32, batch_size=64)"
   ]
  },
  {
   "cell_type": "code",
   "execution_count": 39,
   "id": "3b765eb7",
   "metadata": {},
   "outputs": [
    {
     "name": "stdout",
     "output_type": "stream",
     "text": [
      "1/1 [==============================] - 0s 20ms/step\n",
      "0.2069164192618972\n"
     ]
    }
   ],
   "source": [
    "y_pred = model.predict(X_test)\n",
    "rmse = np.sqrt(np.mean((y_pred - y_test)**2))\n",
    "print(rmse) "
   ]
  },
  {
   "cell_type": "code",
   "execution_count": null,
   "id": "d5674eaf",
   "metadata": {},
   "outputs": [],
   "source": []
  }
 ],
 "metadata": {
  "kernelspec": {
   "display_name": "Python 3 (ipykernel)",
   "language": "python",
   "name": "python3"
  },
  "language_info": {
   "codemirror_mode": {
    "name": "ipython",
    "version": 3
   },
   "file_extension": ".py",
   "mimetype": "text/x-python",
   "name": "python",
   "nbconvert_exporter": "python",
   "pygments_lexer": "ipython3",
   "version": "3.8.15"
  }
 },
 "nbformat": 4,
 "nbformat_minor": 5
}
